{
 "cells": [
  {
   "cell_type": "markdown",
   "id": "3f3b887f",
   "metadata": {
    "tags": []
   },
   "source": [
    "# Exercise 00\n",
    "Write a bit of code that prints _Introduction to Programming_ to the console and execute the cell"
   ]
  },
  {
   "cell_type": "code",
   "execution_count": 1,
   "id": "93461b67",
   "metadata": {},
   "outputs": [
    {
     "name": "stdout",
     "output_type": "stream",
     "text": [
      "Introduction to Programming\n"
     ]
    }
   ],
   "source": [
    "print(\"Introduction to Programming\")"
   ]
  },
  {
   "cell_type": "markdown",
   "id": "24dad252",
   "metadata": {},
   "source": [
    "-----------------------------------------------------------------------------\n",
    "# Exercise 01\n",
    "Hello World is traditionally the first program anyone writes. It is\n",
    "very simple and the only thing it should do is print Hello World! to the\n",
    "terminal window.\n",
    "Create a file called HelloWorld.py and edit the contents so it prints Hello World! to the terminal and execute it using the command line."
   ]
  },
  {
   "cell_type": "markdown",
   "id": "e6a27288",
   "metadata": {},
   "source": [
    "-----------------------------------------------------------------------------\n",
    "# Exercise 02\n",
    "Write some code to print your name, email, and age on separate lines. For each element first assign it to a variable and use the variable to print. \n",
    "\n",
    "Bonus: try to create the print statement for all variable in one line of code. (hint: '\\n' is the character for a new line)"
   ]
  },
  {
   "cell_type": "code",
   "execution_count": 5,
   "id": "96a57e03",
   "metadata": {},
   "outputs": [
    {
     "name": "stdout",
     "output_type": "stream",
     "text": [
      "CHENZHUOSHI\n",
      "17758135853@163.com\n",
      "23\n"
     ]
    }
   ],
   "source": [
    "name = \"CHENZHUOSHI\"\n",
    "email = \"17758135853@163.com\"\n",
    "age = \"23\"\n",
    "print(name + '\\n' + email + '\\n' + age)"
   ]
  },
  {
   "cell_type": "markdown",
   "id": "c6ec7850",
   "metadata": {},
   "source": [
    "-----------------------------------------------------------------------------\n",
    "# Exercise 03\n",
    "Print the numbers 0, 178, -21, 2938 divided by 49, 436 multiplied with 9948 and 12 to the power of 20\n",
    "\n",
    "(Hint: Look up the documentation of basic arithmetic operators)"
   ]
  },
  {
   "cell_type": "code",
   "execution_count": 36,
   "id": "72fe693d",
   "metadata": {},
   "outputs": [
    {
     "name": "stdout",
     "output_type": "stream",
     "text": [
      "0\n",
      "178\n",
      "-21\n",
      "59.95918367346939\n",
      "4337328\n",
      "3833759992447475122176\n"
     ]
    }
   ],
   "source": [
    "print(0)\n",
    "print(178)\n",
    "print(-21)\n",
    "print(2938 / 49)\n",
    "print(436 * 9948)\n",
    "print(12 ** 20)"
   ]
  },
  {
   "cell_type": "markdown",
   "id": "cae0c06f",
   "metadata": {},
   "source": [
    "-----------------------------------------------------------------------------\n",
    "# Exercise 04\n",
    "Print sin(200), cos(100), tan($\\pi$/4)\n",
    "\n",
    "(Hint: Look up for how to use trigonometric function, and how to get the value of $\\pi$.)"
   ]
  },
  {
   "cell_type": "code",
   "execution_count": 12,
   "id": "e9c858b9",
   "metadata": {},
   "outputs": [
    {
     "name": "stdout",
     "output_type": "stream",
     "text": [
      "0.8939966636005579\n",
      "0.8623188722876839\n",
      "0.9999999999999999\n"
     ]
    }
   ],
   "source": [
    "import math\n",
    "print(math.sin(90))\n",
    "print(math.cos(100))\n",
    "print(math.tan(math.pi / 4))"
   ]
  },
  {
   "cell_type": "markdown",
   "id": "70e5d2e5",
   "metadata": {},
   "source": [
    "-----------------------------------------------------------------------------\n",
    "# Exercise 05\n",
    "Write a program to read your first and last names from the console seperately, and then print them on the console together, separated by a space."
   ]
  },
  {
   "cell_type": "code",
   "execution_count": 14,
   "id": "6a71bf4e",
   "metadata": {},
   "outputs": [
    {
     "name": "stdout",
     "output_type": "stream",
     "text": [
      "Zhuoshi\n",
      "Chen\n",
      "Zhuoshi Chen\n"
     ]
    }
   ],
   "source": [
    "firstname = input()\n",
    "lastname = input()\n",
    "print(firstname + ' ' + lastname)"
   ]
  },
  {
   "cell_type": "markdown",
   "id": "41dd3ede",
   "metadata": {},
   "source": [
    "-----------------------------------------------------------------------------\n",
    "# Exercise 06\n",
    "Write a program that determines whether a number given as user input is positive or negative\n",
    " \n",
    "You will need to convert the console input from a string to a number first!"
   ]
  },
  {
   "cell_type": "code",
   "execution_count": 32,
   "id": "71929c79",
   "metadata": {},
   "outputs": [
    {
     "name": "stdout",
     "output_type": "stream",
     "text": [
      "6\n",
      "The number is positive.\n"
     ]
    }
   ],
   "source": [
    "str_number = input()\n",
    "number = int(str_number)\n",
    "if number > 0:\n",
    "    print(\"The number is positive.\")\n",
    "elif number < 0:\n",
    "    print(\"The number is negative.\")\n",
    "else:\n",
    "    print(\"The number is zero.\")\n",
    "\n"
   ]
  },
  {
   "cell_type": "markdown",
   "id": "f25e0059",
   "metadata": {},
   "source": [
    "-----------------------------------------------------------------------------\n",
    "# Exercise 07\n",
    "Write a program that picks a random number between 1-20 and makes the user guess until they get the number right. Then print a congratulations message\n",
    "- (Find out yourself how to generate a random integer)\n",
    "- Bonus: make the user choose the range within which they have to guess\n",
    "- Bonus: keep track of how many guesses were made and print this at the end"
   ]
  },
  {
   "cell_type": "code",
   "execution_count": 24,
   "id": "3ca76d30",
   "metadata": {},
   "outputs": [
    {
     "name": "stdout",
     "output_type": "stream",
     "text": [
      "Welcome to the Guessing Game!\n",
      "Enter the lower bound of the range (1 or higher): 1\n",
      "Enter the upper bound of the range (20 or lower): 9\n",
      "I have chosen a number between 1 and 9. Can you guess it?\n",
      "Enter your guess: 5\n",
      "Too low, try again.\n",
      "Enter your guess: 6\n",
      "Too low, try again.\n",
      "Enter your guess: 7\n",
      "Too low, try again.\n",
      "Enter your guess: 8\n",
      "Too low, try again.\n",
      "Enter your guess: 9\n",
      "Congratulations! You've guessed the number correctly.\n",
      "It took you 5 guesses to find the number.\n"
     ]
    }
   ],
   "source": [
    "import random\n",
    "\n",
    "def get_integer_input(prompt):\n",
    "    while True:\n",
    "        try:\n",
    "            return int(input(prompt))\n",
    "        except ValueError:\n",
    "            print(\"Please enter a valid integer.\")\n",
    "\n",
    "print(\"Welcome to the Guessing Game!\")\n",
    "lower_bound = get_integer_input(\"Enter the lower bound of the range (1 or higher): \")\n",
    "upper_bound = get_integer_input(\"Enter the upper bound of the range (20 or lower): \")\n",
    "\n",
    "if lower_bound > upper_bound:\n",
    "    print(\"The lower bound must be less than or equal to the upper bound.\")\n",
    "else:\n",
    "    secret_number = random.randint(lower_bound, upper_bound)\n",
    "    guesses = 0\n",
    "\n",
    "    print(f\"I have chosen a number between {lower_bound} and {upper_bound}. Can you guess it?\")\n",
    "\n",
    "    while True:\n",
    "        guess = get_integer_input(\"Enter your guess: \")\n",
    "        guesses += 1\n",
    "\n",
    "        if guess == secret_number:\n",
    "            print(\"Congratulations! You've guessed the number correctly.\")\n",
    "            break\n",
    "        elif guess < secret_number:\n",
    "            print(\"Too low, try again.\")\n",
    "        else:\n",
    "            print(\"Too high, try again.\")\n",
    "\n",
    "    print(f\"It took you {guesses} guesses to find the number.\")"
   ]
  },
  {
   "cell_type": "markdown",
   "id": "554b4c03",
   "metadata": {},
   "source": [
    "-----------------------------------------------------------------------------\n",
    "# Exercise 08\n",
    "Ask a sentence as input, then print the words in alphabetical order.\n",
    "Hint: look up how to split up a string"
   ]
  },
  {
   "cell_type": "code",
   "execution_count": 25,
   "id": "a9e4babf",
   "metadata": {},
   "outputs": [
    {
     "name": "stdout",
     "output_type": "stream",
     "text": [
      "Please enter a sentence: you are so beautiful\n",
      "The words in alphabetical order are:\n",
      "are\n",
      "beautiful\n",
      "so\n",
      "you\n"
     ]
    }
   ],
   "source": [
    "sentence = input(\"Please enter a sentence: \")\n",
    "words = sentence.split()\n",
    "sorted_words = sorted(words)\n",
    "print(\"The words in alphabetical order are:\")\n",
    "for word in sorted_words:\n",
    "    print(word)"
   ]
  },
  {
   "cell_type": "markdown",
   "id": "1439c004",
   "metadata": {},
   "source": [
    "-----------------------------------------------------------------------------\n",
    "# Exercise 09\n",
    "Write a program using for loops to print a christmas tree of x lines high\n",
    "specified by the user.\n",
    "(use for loops)\n",
    "so for instance, a chrismas tree of 4 high should looks like this:\n",
    "\n",
    "```\n",
    "\n",
    "    *\n",
    "   ***\n",
    "  *****\n",
    " *******\n",
    "    |\n",
    "\n",
    "```\n",
    "\n",
    "hint: first combine strings into a variable before printing"
   ]
  },
  {
   "cell_type": "code",
   "execution_count": 3,
   "id": "173d3d12",
   "metadata": {},
   "outputs": [
    {
     "name": "stdout",
     "output_type": "stream",
     "text": [
      "5\n",
      "     \n",
      "    *\n",
      "   ***\n",
      "  *****\n",
      " *******\n",
      "    |    \n"
     ]
    }
   ],
   "source": [
    "tree_height = int(input())\n",
    "tree_lines = []\n",
    "\n",
    "for i in range(tree_height):\n",
    "    spaces = tree_height - i\n",
    "    stars = (2 * i  - 1)\n",
    "    line = ' ' * spaces + '*' * stars\n",
    "    tree_lines.append(line)\n",
    "    \n",
    "for line in tree_lines:\n",
    "    print(line)\n",
    "\n",
    "trunk_width = len(tree_lines[-1])  \n",
    "trunk_line = ' ' * (trunk_width // 2) + '|' + ' ' * (trunk_width // 2)\n",
    "print(trunk_line)"
   ]
  },
  {
   "cell_type": "markdown",
   "id": "56ea2f41",
   "metadata": {},
   "source": [
    "-----------------------------------------------------------------------------\n",
    "# Exercise 10\n",
    "Write a piece of code that prints the first $n$ numbers of the padovan sequence"
   ]
  },
  {
   "cell_type": "code",
   "execution_count": 2,
   "id": "110fa964",
   "metadata": {},
   "outputs": [
    {
     "name": "stdout",
     "output_type": "stream",
     "text": [
      "4\n",
      "The first 4 numbers of the Padovan sequence are:\n",
      "[0, 1, 1, 1]\n"
     ]
    }
   ],
   "source": [
    "def padovan_sequence(n):\n",
    "    if n == 1:\n",
    "        return [1]\n",
    "    elif n == 2:\n",
    "        return [0, 1]\n",
    "    elif n == 3:\n",
    "        return [0, 1, 1]\n",
    "    \n",
    "    padovan = [0, 1, 1]\n",
    "    \n",
    "    for i in range(3, n):\n",
    "        padovan.append(padovan[i - 2] + padovan[i - 3])\n",
    "    \n",
    "    return padovan\n",
    "\n",
    "n = int(input())\n",
    "\n",
    "padovan_sequence_list = padovan_sequence(n)\n",
    "print(\"The first\", n, \"numbers of the Padovan sequence are:\")\n",
    "print(padovan_sequence_list)"
   ]
  },
  {
   "cell_type": "code",
   "execution_count": null,
   "id": "0b5ab4ec",
   "metadata": {
    "scrolled": false
   },
   "outputs": [],
   "source": []
  },
  {
   "cell_type": "code",
   "execution_count": null,
   "id": "27ee3e50",
   "metadata": {},
   "outputs": [],
   "source": []
  }
 ],
 "metadata": {
  "kernelspec": {
   "display_name": "Python 3",
   "language": "python",
   "name": "python3"
  },
  "language_info": {
   "codemirror_mode": {
    "name": "ipython",
    "version": 3
   },
   "file_extension": ".py",
   "mimetype": "text/x-python",
   "name": "python",
   "nbconvert_exporter": "python",
   "pygments_lexer": "ipython3",
   "version": "3.9.11"
  }
 },
 "nbformat": 4,
 "nbformat_minor": 5
}
